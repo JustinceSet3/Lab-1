{
 "cells": [
  {
   "cell_type": "markdown",
   "metadata": {
    "id": "M-DGa20PaHnu"
   },
   "source": [
    "#Задача 1\n",
    "Написать функцию на вход которой подается строка, состоящая из латинских букв.\n",
    "Функция должна вернуть количество гласных букв (a, e, i, o, u) в этой строке. Написать тесты для кода"
   ]
  },
  {
   "cell_type": "code",
   "execution_count": 21,
   "metadata": {
    "id": "XvX8X_JJ6PCb"
   },
   "outputs": [
    {
     "name": "stdout",
     "output_type": "stream",
     "text": [
      "в aabbccdd 2 гласных букв\n",
      "в Himitsu 3 гласных букв\n",
      "в Justince 3 гласных букв\n",
      "в SDtokjwawtioe142uu 7 гласных букв\n"
     ]
    }
   ],
   "source": [
    "# основной код\n",
    "def test(n):\n",
    "    c=0\n",
    "    spisok=[\"a\", \"e\", \"i\", \"o\", \"u\"]\n",
    "    for i in n:\n",
    "        if i in spisok: c+=1\n",
    "    print(f\"в {n} {c} гласных букв\")\n",
    "# тесты\n",
    "test(\"aabbccdd\")\n",
    "test(\"Himitsu\")\n",
    "test(\"Justince\")\n",
    "test(\"SDtokjwawtioe142uu\")"
   ]
  },
  {
   "cell_type": "markdown",
   "metadata": {
    "id": "t2ClV_Y0bbr6"
   },
   "source": [
    "# Задача 2\n",
    "Написать функцию на вход, которой подается строка. Функция должна вернуть true, если\n",
    "каждый символ в строке встречается только 1 раз, иначе должна вернуть false. Написать тесты для кода"
   ]
  },
  {
   "cell_type": "code",
   "execution_count": 23,
   "metadata": {
    "id": "FppbECao6VIz"
   },
   "outputs": [
    {
     "name": "stdout",
     "output_type": "stream",
     "text": [
      "True\n",
      "False\n",
      "False\n",
      "True\n"
     ]
    }
   ],
   "source": [
    "# основной код\n",
    "def test(n): print(True) if len(n) == len(set(n)) else print(False)\n",
    "# тесты\n",
    "test(\"abcde\")\n",
    "test(\"QWERTYUIOPW\")\n",
    "test(\"GFFDGDGDGDG\")\n",
    "test(\"QWERTYuzxcvbnm\")"
   ]
  },
  {
   "cell_type": "markdown",
   "metadata": {
    "id": "udRiIK1cdt6E"
   },
   "source": [
    "# Задача 3\n",
    "Написать функцию, которая принимает положительное число и возвращает количество\n",
    "бит равных 1 в этом числе. Написать тесты для кода"
   ]
  },
  {
   "cell_type": "code",
   "execution_count": 25,
   "metadata": {
    "id": "6tkfDJRz6dp_"
   },
   "outputs": [
    {
     "name": "stdout",
     "output_type": "stream",
     "text": [
      "2\n",
      "1\n",
      "4\n",
      "7\n"
     ]
    }
   ],
   "source": [
    "# основной код\n",
    "def test(n): print(bin(n).count(\"1\"))\n",
    "# тесты\n",
    "test(12)\n",
    "test(1)\n",
    "test(531)\n",
    "test(1245)"
   ]
  },
  {
   "cell_type": "markdown",
   "metadata": {
    "id": "26dDUz-Ae17N"
   },
   "source": [
    "# Задача 4\n",
    "Написать функцию, которая принимает положительное число. Функция должна вернуть то,\n",
    "сколько раз необходимо перемножать цифры числа или результат перемножения, чтобы\n",
    "получилось число состоящее из одной цифры.\n",
    "Например, для входного числа:\n",
    "· 39 функция должна вернуть 3, так как 3*9=27 => 2*7=14 => 1*4=4\n",
    "· 4 функция должна вернуть 0, так как число уже состоит из одной цифры\n",
    "· 999 функция должна вернуть 4, так как 9*9*9=729 => 7*2*9=126 => 1*2*6=12 =>\n",
    "1*2=2. Написать тесты для кода"
   ]
  },
  {
   "cell_type": "code",
   "execution_count": 27,
   "metadata": {
    "id": "BH1A_Mgi6i4G"
   },
   "outputs": [
    {
     "name": "stdout",
     "output_type": "stream",
     "text": [
      "4\n",
      "4\n",
      "0\n",
      "1\n",
      "2\n"
     ]
    }
   ],
   "source": [
    "# основной код\n",
    "def magic(n):\n",
    "    c=0\n",
    "    t=1\n",
    "    while n >9:\n",
    "        for i in range(len(str(n))):\n",
    "            t*=int(str(n)[i])\n",
    "        n=t\n",
    "        c+=1\n",
    "    print(c)\n",
    "# тесты\n",
    "magic(39)\n",
    "magic(999)\n",
    "magic(4)\n",
    "magic(11111111)\n",
    "magic(123456789)"
   ]
  },
  {
   "cell_type": "markdown",
   "metadata": {
    "id": "0nS-kIa8g8vd"
   },
   "source": [
    "# Задача 5\n",
    "Написать функцию, которая принимает два целочисленных вектора одинаковой длины и\n",
    "возвращает среднеквадратическое отклонение двух векторов. Написать тесты для кода"
   ]
  },
  {
   "cell_type": "code",
   "execution_count": 29,
   "metadata": {
    "id": "8iphx4LM6xbx"
   },
   "outputs": [
    {
     "name": "stdout",
     "output_type": "stream",
     "text": [
      "0.0\n",
      "9.0\n",
      "1.0\n"
     ]
    }
   ],
   "source": [
    "# основной код\n",
    "def mse(pred, true):\n",
    "    k=[]\n",
    "    for i in range(len(pred)):\n",
    "        diff = pred[i] - true[i]\n",
    "        k.append(diff ** 2)\n",
    "    print(sum(k) / len(k))\n",
    "# тесты\n",
    "mse([1,2,3],[1,2,3])\n",
    "mse([1,2,3],[4,5,6])\n",
    "mse([0,0,0],[1,1,1])"
   ]
  },
  {
   "cell_type": "markdown",
   "metadata": {
    "id": "vpIPKL439zkw"
   },
   "source": [
    "# Задача 6\n",
    "Написать функцию, принимающая целое положительное число. Функция должна вернуть\n",
    "строку вида “(n1**p1)(n2**p2)…(nk**pk)” представляющая разложение числа на простые\n",
    "множители (если pi == 1, то выводить только ni).\n",
    "Например, для числа 86240 функция должна вернуть “(2**5)(5)(7**2)(11)”. Написать тесты для кода"
   ]
  },
  {
   "cell_type": "code",
   "execution_count": 31,
   "metadata": {
    "id": "pFebmcZk94Jw"
   },
   "outputs": [
    {
     "name": "stdout",
     "output_type": "stream",
     "text": [
      "(2**5)(5)(7**2)(11)\n",
      "(2**3)(3**2)(5)\n",
      "(2**2)(3)(7)(61)\n",
      "(2)(3)(5)(79)(131)\n",
      "(1)\n"
     ]
    }
   ],
   "source": [
    "#Основной код\n",
    "def test(n):\n",
    "    if n == 1:\n",
    "        return \"(1)\"\n",
    "    i = 2\n",
    "    result = \"\"\n",
    "    while i * i <= n:\n",
    "        count = 0\n",
    "        while (n % i) == 0:\n",
    "            count += 1\n",
    "            n //= i\n",
    "        if count > 0:\n",
    "            if count == 1:\n",
    "                result += f\"({i})\"\n",
    "            else:\n",
    "                result += f\"({i}**{count})\"\n",
    "        i += 1\n",
    "    if n > 1:\n",
    "        result += f\"({n})\"\n",
    "    return result\n",
    "# тесты\n",
    "print(test(86240))\n",
    "print(test(360))\n",
    "print(test(5124))\n",
    "print(test(310470))\n",
    "print(test(1))"
   ]
  },
  {
   "cell_type": "markdown",
   "metadata": {
    "id": "ps2s0BudX7A2"
   },
   "source": [
    "# Задача 7\n",
    "Написать функцию, принимающая целое число n, задающее количество кубиков. Функция\n",
    "должна определить, можно ли из данного кол-ва кубиков построить пирамиду, то есть\n",
    "можно ли представить число n как 1^2+2^2+3^2+…+k^2. Если можно, то функция должна\n",
    "вернуть k, иначе строку “It is impossible”. Написать тесты для кода"
   ]
  },
  {
   "cell_type": "code",
   "execution_count": 33,
   "metadata": {
    "id": "3YPjEXxhX_YT"
   },
   "outputs": [
    {
     "name": "stdout",
     "output_type": "stream",
     "text": [
      "1\n",
      "2\n",
      "3\n",
      "4\n",
      "It is impossible\n",
      "It is impossible\n"
     ]
    }
   ],
   "source": [
    "#Основной код\n",
    "def pyramid(n):\n",
    "    k = 0\n",
    "    c = 0\n",
    "    while c < n:\n",
    "        k += 1\n",
    "        c += k ** 2\n",
    "    if c == n:\n",
    "        print(k)\n",
    "    else:\n",
    "        print(\"It is impossible\")\n",
    "# тесты\n",
    "pyramid(1)\n",
    "pyramid(5)\n",
    "pyramid(14)\n",
    "pyramid(30)\n",
    "pyramid(2)\n",
    "pyramid(15)"
   ]
  },
  {
   "cell_type": "markdown",
   "metadata": {
    "id": "KeKgmIdAQMEJ"
   },
   "source": [
    "# Задача 8\n",
    "Функция принимает на вход положительное число и определяет является ли оно сбалансированным, т.е. сумма цифр до средних равна сумме цифр после. Средними в случае нечетного числа цифр считать одну цифру, в случае четного - две средних. Написать тесты для кода"
   ]
  },
  {
   "cell_type": "code",
   "execution_count": 35,
   "metadata": {
    "id": "gMAAqtqlQrZt"
   },
   "outputs": [
    {
     "name": "stdout",
     "output_type": "stream",
     "text": [
      "True\n",
      "True\n",
      "False\n",
      "True\n",
      "False\n",
      "True\n"
     ]
    }
   ],
   "source": [
    "#Основной код\n",
    "def is_balanced(n):\n",
    "    s = str(n)\n",
    "    mid = len(s) // 2\n",
    "    if len(s) % 2 == 0:\n",
    "        left_part = s[:mid - 1]\n",
    "        right_part = s[mid + 1:]\n",
    "    else:\n",
    "        left_part = s[:mid]\n",
    "        right_part = s[mid + 1:]\n",
    "    if sum(map(int, left_part)) == sum(map(int, right_part)):\n",
    "        print(True)\n",
    "    else:\n",
    "        print(False)\n",
    "# тесты\n",
    "is_balanced(123321)\n",
    "is_balanced(12321)\n",
    "is_balanced(123456)\n",
    "is_balanced(432234)\n",
    "is_balanced(123)\n",
    "is_balanced(1)"
   ]
  },
  {
   "cell_type": "code",
   "execution_count": null,
   "metadata": {},
   "outputs": [],
   "source": []
  }
 ],
 "metadata": {
  "colab": {
   "provenance": []
  },
  "kernelspec": {
   "display_name": "Python 3 (ipykernel)",
   "language": "python",
   "name": "python3"
  },
  "language_info": {
   "codemirror_mode": {
    "name": "ipython",
    "version": 3
   },
   "file_extension": ".py",
   "mimetype": "text/x-python",
   "name": "python",
   "nbconvert_exporter": "python",
   "pygments_lexer": "ipython3",
   "version": "3.12.4"
  }
 },
 "nbformat": 4,
 "nbformat_minor": 4
}
